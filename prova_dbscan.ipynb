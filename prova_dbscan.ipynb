{
  "nbformat": 4,
  "nbformat_minor": 0,
  "metadata": {
    "colab": {
      "name": "prova_dbscantuccio.ipynb",
      "provenance": [],
      "collapsed_sections": [],
      "include_colab_link": true
    },
    "kernelspec": {
      "name": "python3",
      "display_name": "Python 3"
    }
  },
  "cells": [
    {
      "cell_type": "markdown",
      "metadata": {
        "id": "view-in-github",
        "colab_type": "text"
      },
      "source": [
        "<a href=\"https://colab.research.google.com/github/lorenzopaolucci/prova/blob/master/prova_dbscan.ipynb\" target=\"_parent\"><img src=\"https://colab.research.google.com/assets/colab-badge.svg\" alt=\"Open In Colab\"/></a>"
      ]
    },
    {
      "cell_type": "code",
      "metadata": {
        "id": "2ZAf_mlQqPNT",
        "colab_type": "code",
        "outputId": "76076b83-768c-48b2-8eb1-2796eb40f464",
        "colab": {
          "base_uri": "https://localhost:8080/",
          "height": 133
        }
      },
      "source": [
        "print(__doc__)\n",
        "\n",
        "import numpy as np\n",
        "\n",
        "from sklearn.cluster import DBSCAN\n",
        "from sklearn import metrics\n",
        "from sklearn.datasets import make_blobs\n",
        "from sklearn.preprocessing import StandardScaler\n",
        "\n",
        "\n",
        "# #############################################################################\n",
        "# Genera punti nel piano, gaussiani centrati nelle 4 liste\n",
        "centers = [[1, 1], [-1, -1], [1, -1],[-2,1.5]]\n",
        "X, labels_true = make_blobs(n_samples=750, centers=centers, cluster_std=0.4,\n",
        "                            random_state=0)\n",
        "\n",
        "X = StandardScaler().fit_transform(X) #rinormalizza media=0, std=1\n",
        "\n",
        "# #############################################################################\n",
        "# Parametri DBSCAN \n",
        "for eps in np.arange(0.1, 0.4, 0.1)\n",
        "    for min_samples in np.arange(5,20,5)\n",
        "    \n",
        "        db = DBSCAN(eps, min_samples).fit(X)\n",
        "        core_samples_mask = np.zeros_like(db.labels_, dtype=bool) #inizializza un array booleano,   della stessa forma di labels_\n",
        "        core_samples_mask[db.core_sample_indices_] = True #considera tutti i core trovati da dbscan\n",
        "        labels = db.labels_\n",
        "        \n",
        "        # Number of clusters in labels, ignoring noise if present.\n",
        "        n_clusters_ = len(set(labels)) - (1 if -1 in labels else 0) #conta i cluster, togliendo il  rumore (k=-1)\n",
        "        n_noise_ = list(labels).count(-1) #numero di punti di rumore\n",
        "        \n",
        "        print('Estimated number of clusters: %d' % n_clusters_)\n",
        "        print('Estimated number of noise points: %d' % n_noise_)\n",
        "        \n",
        "        # #############################################################################\n",
        "        # Plot\n",
        "        import matplotlib.pyplot as plt\n",
        "        \n",
        "        unique_labels = set(labels)\n",
        "        colors = [plt.cm.Spectral(each)\n",
        "                    for each in np.linspace(0, 1, len(unique_labels))] #sceglie la palette di   colori senza il nero\n",
        "        for k, col in zip(unique_labels, colors): #per ogni cluster, associo un colore\n",
        "            if k == -1:\n",
        "                # Nero per il rumore\n",
        "                col = [0, 0, 0, 1]\n",
        "        \n",
        "            class_member_mask = (labels == k) #seleziona tutti i punti del cluster k\n",
        "            #plt.style.use(\"dark_background\")\n",
        "            xy = X[class_member_mask & core_samples_mask] #plot solo se è nel cluster E è un core   point\n",
        "            plt.plot(xy[:, 0], xy[:, 1], 'o', markerfacecolor=tuple(col),\n",
        "                    markeredgecolor='k', markersize=14)\n",
        "        \n",
        "            xy = X[class_member_mask & ~core_samples_mask] #plot solo se è nel cluster E non è core     == è un edge point del cluster\n",
        "            plt.plot(xy[:, 0], xy[:, 1], 'o', markerfacecolor=tuple(col),\n",
        "                    markeredgecolor='k', markersize=6)\n",
        "        \n",
        "        plt.title('Eps=%d, min_samples=%d, estimated number of clusters: %d' % eps,min_samples,n_clusters_)\n",
        "        plt.show()"
      ],
      "execution_count": 8,
      "outputs": [
        {
          "output_type": "error",
          "ename": "SyntaxError",
          "evalue": "ignored",
          "traceback": [
            "\u001b[0;36m  File \u001b[0;32m\"<ipython-input-8-79b20143ddd4>\"\u001b[0;36m, line \u001b[0;32m21\u001b[0m\n\u001b[0;31m    for eps in np.arange(0.1, 0.4, 0.1)\u001b[0m\n\u001b[0m                                       ^\u001b[0m\n\u001b[0;31mSyntaxError\u001b[0m\u001b[0;31m:\u001b[0m invalid syntax\n"
          ]
        }
      ]
    }
  ]
}